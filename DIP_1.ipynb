{
 "cells": [
  {
   "cell_type": "code",
   "execution_count": null,
   "metadata": {},
   "outputs": [],
   "source": [
    "from matplotlib.image import imread\n",
    "import matplotlib.pyplot as plt \n",
    "import numpy as np \n",
    "import cv2\n",
    "from PIL import image\n",
    "from numpy import asarray\n",
    "\n",
    "input_image = imread(\"photo.jpeg\")\n",
    "\n",
    "r,g,b = input_image[:,:,0],input_image[:,:,1],input_image[:,:,2]\n",
    "\n",
    "gamma = 1.08\n",
    "\n",
    "r_const,g_const,b_const = 0.2126,0.7152,0.0722\n",
    "\n",
    "grayscale_image = r_const*r**gamma + g_const*g**gamma + b_const*b**gamma\n",
    "img = cv2.imread('photo.jpeg',2)\n",
    "binary=cv2.threshold(img,128,255,cv2.THRESH_BINARY)\n",
    "add_image=grayscale_image + binary\n",
    "new_image=grayscale_image + 20\n",
    "\n",
    "#fig.show()\n",
    "images=[input_image,grayscale_image,binary,add_image,new_image]\n",
    "plt.show()"
   ]
  }
 ],
 "metadata": {
  "kernelspec": {
   "display_name": "Python 3",
   "language": "python",
   "name": "python3"
  },
  "language_info": {
   "codemirror_mode": {
    "name": "ipython",
    "version": 3
   },
   "file_extension": ".py",
   "mimetype": "text/x-python",
   "name": "python",
   "nbconvert_exporter": "python",
   "pygments_lexer": "ipython3",
   "version": "3.8.5"
  }
 },
 "nbformat": 4,
 "nbformat_minor": 4
}
